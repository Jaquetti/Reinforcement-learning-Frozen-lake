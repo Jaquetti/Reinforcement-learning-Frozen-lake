{
  "nbformat": 4,
  "nbformat_minor": 0,
  "metadata": {
    "colab": {
      "name": "Reinforcement learning.ipynb",
      "provenance": [],
      "authorship_tag": "ABX9TyPFwsOMSeDrl50VGe4k2X0c",
      "include_colab_link": true
    },
    "kernelspec": {
      "name": "python3",
      "display_name": "Python 3"
    }
  },
  "cells": [
    {
      "cell_type": "markdown",
      "metadata": {
        "id": "view-in-github",
        "colab_type": "text"
      },
      "source": [
        "<a href=\"https://colab.research.google.com/github/Jaquetti/Reinforcemnt-learning-/blob/master/Reinforcement_learning.ipynb\" target=\"_parent\"><img src=\"https://colab.research.google.com/assets/colab-badge.svg\" alt=\"Open In Colab\"/></a>"
      ]
    },
    {
      "cell_type": "code",
      "metadata": {
        "id": "tY577sKJGwXn",
        "colab_type": "code",
        "colab": {}
      },
      "source": [
        "import gym\n",
        "import numpy as np\n",
        "import random"
      ],
      "execution_count": 0,
      "outputs": []
    },
    {
      "cell_type": "code",
      "metadata": {
        "id": "2Mze8ubrHYRQ",
        "colab_type": "code",
        "colab": {}
      },
      "source": [
        "env = gym.make('FrozenLake-v0')"
      ],
      "execution_count": 0,
      "outputs": []
    },
    {
      "cell_type": "code",
      "metadata": {
        "id": "OxRu3gehH61B",
        "colab_type": "code",
        "outputId": "cb2b22c1-8916-43ca-e9da-5486d5696f9e",
        "colab": {
          "base_uri": "https://localhost:8080/",
          "height": 34
        }
      },
      "source": [
        "env.reset()"
      ],
      "execution_count": 0,
      "outputs": [
        {
          "output_type": "execute_result",
          "data": {
            "text/plain": [
              "0"
            ]
          },
          "metadata": {
            "tags": []
          },
          "execution_count": 29
        }
      ]
    },
    {
      "cell_type": "code",
      "metadata": {
        "id": "y65qt-KdIBU0",
        "colab_type": "code",
        "outputId": "4570e444-925f-432a-d6e4-b5eea4563d0d",
        "colab": {
          "base_uri": "https://localhost:8080/",
          "height": 34
        }
      },
      "source": [
        "print(env.observation_space, env.action_space)"
      ],
      "execution_count": 0,
      "outputs": [
        {
          "output_type": "stream",
          "text": [
            "Discrete(16) Discrete(4)\n"
          ],
          "name": "stdout"
        }
      ]
    },
    {
      "cell_type": "code",
      "metadata": {
        "id": "m-6rY6BzI_uY",
        "colab_type": "code",
        "colab": {}
      },
      "source": [
        "Q = np.zeros((16,4))"
      ],
      "execution_count": 0,
      "outputs": []
    },
    {
      "cell_type": "code",
      "metadata": {
        "id": "8uxiz-D3KnlD",
        "colab_type": "code",
        "colab": {}
      },
      "source": [
        "gama = 0.99\n",
        "lr = 0.1\n",
        "exp = 1\n",
        "max_exp = 1\n",
        "min_exp = 0.01\n",
        "exp_decay = 0.001\n"
      ],
      "execution_count": 0,
      "outputs": []
    },
    {
      "cell_type": "code",
      "metadata": {
        "id": "dU2BIQthIFCT",
        "colab_type": "code",
        "colab": {}
      },
      "source": [
        "for episode in range(10000): \n",
        "  s = env.reset()\n",
        "  for step in range(100):\n",
        "    num = random.uniform(0,1)\n",
        "    if(num>exp):\n",
        "      a = np.argmax(Q[s,:])\n",
        "    else:\n",
        "      a = int(env.action_space.sample())\n",
        "    s_new,r,_,_ = env.step(a)\n",
        "  \n",
        "    Q1 = lr*(r+gama*np.max(Q[s_new,:]))\n",
        "    Q[s,a] = Q[s,a]*(1-lr)+Q1\n",
        "      \n",
        "    if(r==1):\n",
        "      print('chegou ao objetivo')\n",
        "      #env.render()\n",
        "    s = s_new\n",
        "  exp = min_exp +(max_exp-min_exp)*np.exp(-exp_decay*episode)\n",
        "  "
      ],
      "execution_count": 0,
      "outputs": []
    },
    {
      "cell_type": "code",
      "metadata": {
        "id": "lPAgPl5lbD-_",
        "colab_type": "code",
        "colab": {}
      },
      "source": [
        "done  = False\n",
        "s = env.reset()\n",
        "while not done:\n",
        "  a = np.argmax(Q[s,:])\n",
        "  s,r,done,_ = env.step(a)\n",
        "  env.render()\n",
        "  \n"
      ],
      "execution_count": 0,
      "outputs": []
    },
    {
      "cell_type": "code",
      "metadata": {
        "id": "ooqSVuLRXqHr",
        "colab_type": "code",
        "colab": {}
      },
      "source": [
        ""
      ],
      "execution_count": 0,
      "outputs": []
    }
  ]
}